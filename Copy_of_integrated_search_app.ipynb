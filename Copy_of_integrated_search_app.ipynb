{
  "nbformat": 4,
  "nbformat_minor": 0,
  "metadata": {
    "colab": {
      "provenance": [],
      "authorship_tag": "ABX9TyOsqZozAWeDEuvcvrvJplOK",
      "include_colab_link": true
    },
    "kernelspec": {
      "name": "python3",
      "display_name": "Python 3"
    },
    "language_info": {
      "name": "python"
    }
  },
  "cells": [
    {
      "cell_type": "markdown",
      "metadata": {
        "id": "view-in-github",
        "colab_type": "text"
      },
      "source": [
        "<a href=\"https://colab.research.google.com/github/ehe363/spotify_project/blob/main/Copy_of_integrated_search_app.ipynb\" target=\"_parent\"><img src=\"https://colab.research.google.com/assets/colab-badge.svg\" alt=\"Open In Colab\"/></a>"
      ]
    },
    {
      "cell_type": "code",
      "source": [
        "client_id = 'db905839561c4623994cf8a5f4c14f4b'\n",
        "client_secret = '98ae25d2965342fe8e2c94faeb80c2b4'\n",
        "redirect_uri = 'https://exampledashboard.com'\n",
        "# OAuth endpoints given in the Spotify API documentation\n",
        "# https://developer.spotify.com/documentation/general/guides/authorization/code-flow/\n",
        "authorization_base_url = \"https://accounts.spotify.com/authorize\"\n",
        "token_url = \"https://accounts.spotify.com/api/token\"\n",
        "# https://developer.spotify.com/documentation/general/guides/authorization/scopes/\n",
        "scope = [\"user-read-currently-playing\",\n",
        "         \"user-top-read\"]\n",
        "from requests_oauthlib import OAuth2Session\n",
        "spotify = OAuth2Session(client_id, scope=scope, redirect_uri=redirect_uri)\n",
        "# Redirect user to Spotify for authorization\n",
        "authorization_url, state = spotify.authorization_url(authorization_base_url)\n",
        "print('Please go here and authorize: ', authorization_url)\n",
        "# Get the authorization verifier code from the callback url\n",
        "redirect_response = input('\\n\\nPaste the full redirect URL here: ')\n",
        "from requests.auth import HTTPBasicAuth\n",
        "auth = HTTPBasicAuth(client_id, client_secret)\n",
        "# Fetch the access token\n",
        "token = spotify.fetch_token(token_url, auth=auth, authorization_response=redirect_response)\n",
        "print(token)\n",
        "# Fetch a protected resource, i.e. user profile\n",
        "r = spotify.get('https://api.spotify.com/v1/me')\n",
        "print(r.content)"
      ],
      "metadata": {
        "id": "2kwc6Scc3Dv4"
      },
      "execution_count": null,
      "outputs": []
    },
    {
      "cell_type": "code",
      "source": [
        "top_artists = spotify.get('https://api.spotify.com/v1/me/top/artists')\n",
        "top_artists_data = top_artists.content\n",
        "import json\n",
        "from IPython.display import Image, display\n",
        "from pprint import pprint\n",
        "top_artists_list = json.loads(top_artists_data)['items']\n",
        "top_artists_names = []\n",
        "for n in top_artists_list:\n",
        "    top_artists_names.append(n[\"name\"])\n",
        "\n",
        "pprint(top_artists_names)"
      ],
      "metadata": {
        "id": "XQ96tX7g3EUk"
      },
      "execution_count": null,
      "outputs": []
    },
    {
      "cell_type": "code",
      "execution_count": null,
      "metadata": {
        "id": "nIjmmP_s1-sX"
      },
      "outputs": [],
      "source": [
        "import os\n",
        "\n",
        "# Replace 'your_actual_api_key_here' with your real Ticketmaster API key\n",
        "os.environ['TICKETMASTER_API_KEY'] = 'iPVCrQgdoj3ZTMll74BfuNig2uiYPZKS'"
      ]
    },
    {
      "cell_type": "code",
      "source": [
        "import os\n",
        "\n",
        "ticketmaster_api_key = os.environ.get('TICKETMASTER_API_KEY')\n",
        "if ticketmaster_api_key:\n",
        "    print(\"Ticketmaster API key is set.\")\n",
        "else:\n",
        "    print(\"Ticketmaster API key is not set. Make sure to set it using os.environ.\")\n"
      ],
      "metadata": {
        "id": "b0OuKO3p2uqW"
      },
      "execution_count": null,
      "outputs": []
    },
    {
      "cell_type": "code",
      "source": [
        "from IPython.core.interactiveshell import import_item\n",
        "import os\n",
        "import requests\n",
        "from datetime import datetime, timedelta\n",
        "\n",
        "# Retrieve API key from environment variable\n",
        "API_KEY = os.environ.get('TICKETMASTER_API_KEY')\n",
        "BASE_URL = 'https://app.ticketmaster.com/discovery/v2/'\n",
        "\n",
        "def search_artist_events(artist_name):\n",
        "    endpoint = f'{BASE_URL}events.json'\n",
        "    params = {\n",
        "        'apikey': API_KEY,\n",
        "        'keyword': artist_name,\n",
        "    }\n",
        "\n",
        "    response = requests.get(endpoint, params=params)\n",
        "    data = response.json()\n",
        "\n",
        "    if response.status_code == 200:\n",
        "        events = data.get('_embedded', {}).get('events', [])\n",
        "        return events\n",
        "    else:\n",
        "        print('Error:', data.get('detail', 'Unknown error'))\n",
        "        return None\n",
        "\n",
        "def filter_events_by_date(events, days):\n",
        "    today = datetime.now().date()\n",
        "    end_date = today + timedelta(days=days)\n",
        "\n",
        "    filtered_events = []\n",
        "    for event in events:\n",
        "        event_date = datetime.strptime(event['dates']['start']['localDate'], '%Y-%m-%d').date()\n",
        "        if today <= event_date < end_date:\n",
        "            filtered_events.append(event)\n",
        "\n",
        "    return filtered_events\n",
        "\n",
        "for item in top_artists_names:\n",
        "    events = search_artist_events(item)\n",
        "\n",
        "    if events:\n",
        "        filtered_events = filter_events_by_date(events, 90)\n",
        "        print(f\"Found {len(filtered_events)} events for '{item}' in the next 90 days:\")\n",
        "        for event in filtered_events:\n",
        "            event_name = event['name']\n",
        "            event_date = event['dates']['start']['localDate']\n",
        "            event_time = event['dates']['start'].get('localTime', 'Time not available')\n",
        "            event_url = event.get('url', 'URL not available')\n",
        "\n",
        "            print(event_name, event_date, event_time, event_url)\n",
        "    else:\n",
        "        print(f\"No events found for '{item}'.\")\n"
      ],
      "metadata": {
        "id": "_PhB4qVU2w-b"
      },
      "execution_count": null,
      "outputs": []
    }
  ]
}